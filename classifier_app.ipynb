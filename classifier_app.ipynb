{
  "nbformat": 4,
  "nbformat_minor": 0,
  "metadata": {
    "jupytext": {
      "split_at_heading": true
    },
    "kernelspec": {
      "display_name": "Python 3",
      "language": "python",
      "name": "python3"
    },
    "language_info": {
      "codemirror_mode": {
        "name": "ipython",
        "version": 3
      },
      "file_extension": ".py",
      "mimetype": "text/x-python",
      "name": "python",
      "nbconvert_exporter": "python",
      "pygments_lexer": "ipython3",
      "version": "3.7.7"
    },
    "toc": {
      "base_numbering": 1,
      "nav_menu": {},
      "number_sections": false,
      "sideBar": true,
      "skip_h1_title": true,
      "title_cell": "Table of Contents",
      "title_sidebar": "Contents",
      "toc_cell": false,
      "toc_position": {},
      "toc_section_display": true,
      "toc_window_display": false
    },
    "colab": {
      "name": "classifier_app.ipynb",
      "provenance": []
    }
  },
  "cells": [
    {
      "cell_type": "code",
      "metadata": {
        "id": "D-1QBAqi9pn9"
      },
      "source": [
        "from fastai.basics import *\n",
        "from fastai.callback.all import *\n",
        "from fastai.vision.all import *\n",
        "import ipywidgets as widgets\n",
        "\n",
        "import warnings\n",
        "warnings.filterwarnings('ignore')"
      ],
      "execution_count": 10,
      "outputs": []
    },
    {
      "cell_type": "markdown",
      "metadata": {
        "id": "f-EyMgP39poB"
      },
      "source": [
        "# The Selfie Classifier!"
      ]
    },
    {
      "cell_type": "markdown",
      "metadata": {
        "id": "4V6vudvS9poC"
      },
      "source": [
        "You need to know whether you're being chased by a dangerous grizzly, or a sweet teddy bear, and you need an answer *fast*? Then you've come to the right place. Take a pic of the potentially vicious killer, and click 'upload' to classify it. (Important: this only handles grizzly bears, black bears, and teddy bears. It will **not** give a sensible answer for polar bears, a bear market, a bear of a man, or hot dogs.\n",
        "\n",
        "----"
      ]
    },
    {
      "cell_type": "code",
      "metadata": {
        "id": "YTKtErRT9poD"
      },
      "source": [
        "def get_sample_filepath(sample): return Path(sample.filepath)\n",
        "\n",
        "def get_sample_label(sample): return sample.ground_truth.label\n",
        "\n",
        "class SelfieDetectorApp():\n",
        "  def __init__(self, learner):\n",
        "    self.learner = learner\n",
        "    self.label = widgets.Label(\"Welcome to the Selfie detector. Upload your image below\")\n",
        "    self.uploader = widgets.FileUpload(multiple=False)\n",
        "    self.uploader.observe(self._on_upload, names='data')\n",
        "\n",
        "  def _on_upload(self, change):\n",
        "    widget = change['owner']\n",
        "    img = PILImage.create(widget.data[0])\n",
        "    show_image(img)\n",
        "    self._predict(img)\n",
        "\n",
        "  def _predict(self, img):\n",
        "      class_name, prob_idx, probs = self.learner.predict(img)\n",
        "      print(f\"{class_name.upper()} with {probs[prob_idx.item()]*100:.2f}% probability\")\n",
        "\n",
        "  def show(self):\n",
        "    return widgets.VBox([self.label, self.uploader])\n",
        "\n",
        "path = Path('/content/drive/MyDrive')\n",
        "learn_inf = load_learner(path/'export.pkl', cpu=True)\n",
        "app = SelfieDetectorApp(learn_inf)\n",
        "app.show()"
      ],
      "execution_count": null,
      "outputs": []
    }
  ]
}