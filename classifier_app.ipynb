{
  "nbformat": 4,
  "nbformat_minor": 0,
  "metadata": {
    "jupytext": {
      "split_at_heading": true
    },
    "kernelspec": {
      "display_name": "Python 3",
      "language": "python",
      "name": "python3"
    },
    "language_info": {
      "codemirror_mode": {
        "name": "ipython",
        "version": 3
      },
      "file_extension": ".py",
      "mimetype": "text/x-python",
      "name": "python",
      "nbconvert_exporter": "python",
      "pygments_lexer": "ipython3",
      "version": "3.7.7"
    },
    "toc": {
      "base_numbering": 1,
      "nav_menu": {},
      "number_sections": false,
      "sideBar": true,
      "skip_h1_title": true,
      "title_cell": "Table of Contents",
      "title_sidebar": "Contents",
      "toc_cell": false,
      "toc_position": {},
      "toc_section_display": true,
      "toc_window_display": false
    },
    "colab": {
      "name": "classifier_app.ipynb",
      "provenance": []
    }
  },
  "cells": [
    {
      "cell_type": "code",
      "metadata": {
        "id": "D-1QBAqi9pn9"
      },
      "source": [
        "from fastai.basics import *\n",
        "from fastai.callback.all import *\n",
        "from fastai.vision.all import *\n",
        "from fastai.vision.widgets import *\n",
        "\n",
        "import warnings\n",
        "warnings.filterwarnings('ignore')"
      ],
      "execution_count": 10,
      "outputs": []
    },
    {
      "cell_type": "markdown",
      "metadata": {
        "id": "f-EyMgP39poB"
      },
      "source": [
        "# The Selfie Classifier!"
      ]
    },
    {
      "cell_type": "markdown",
      "metadata": {
        "id": "4V6vudvS9poC"
      },
      "source": [
        "Here you can do a very nice and fancy thing - you can detect if the given headshot is selfie or not.\n",
        "\n",
        "Important:\n",
        "  This only handles adult human headshots (man or woman). It might not give you a sensible answser for kids or full pose shots of the people.\n",
        "\n",
        "Enjoy !\n",
        "\n",
        "----"
      ]
    },
    {
      "cell_type": "code",
      "metadata": {
        "id": "5NqMeDvmHRuw"
      },
      "source": [
        "# We need those two methods used to create dataloaders as it the load_learner will search for it when deserializing the model\n",
        "def get_sample_filepath(sample): return Path(sample.filepath)\n",
        "\n",
        "def get_sample_label(sample): return sample.ground_truth.label"
      ],
      "execution_count": null,
      "outputs": []
    },
    {
      "cell_type": "code",
      "metadata": {
        "id": "YTKtErRT9poD"
      },
      "source": [
        "class SelfieDetectorApp():\n",
        "    def __init__(self):\n",
        "        self.learner = load_learner(Path()/'export.pkl', cpu=True)\n",
        "        self.upload = widgets.FileUpload()\n",
        "        self.img_out = widgets.Output()\n",
        "        self.result = widgets.Label()\n",
        "        self.upload.observe(self._on_data_change, names=['data'])\n",
        "\n",
        "    def _on_data_change(self, change):\n",
        "        self.result.value = ''\n",
        "        img = PILImage.create(self.upload.data[-1])\n",
        "        self.img_out.clear_output()\n",
        "        with self.img_out: display(img.to_thumb(300,300)) \n",
        "        class_name, prob_idx, probs = self.learner.predict(img)\n",
        "        self.result.value = f\"{class_name.upper()} with {probs[prob_idx.item()]*100:.2f}% probability\"\n",
        "\n",
        "    def start(self):\n",
        "        display(widgets.VBox([widgets.Label('Upload the headshot'), self.upload, self.img_out, self.result]))\n",
        "\n",
        "app = SelfieDetectorApp()\n",
        "app.start()"
      ],
      "execution_count": null,
      "outputs": []
    }
  ]
}