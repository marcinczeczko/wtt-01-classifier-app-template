{
  "nbformat": 4,
  "nbformat_minor": 0,
  "metadata": {
    "jupytext": {
      "split_at_heading": true
    },
    "kernelspec": {
      "display_name": "Python 3",
      "language": "python",
      "name": "python3"
    },
    "language_info": {
      "codemirror_mode": {
        "name": "ipython",
        "version": 3
      },
      "file_extension": ".py",
      "mimetype": "text/x-python",
      "name": "python",
      "nbconvert_exporter": "python",
      "pygments_lexer": "ipython3",
      "version": "3.7.7"
    },
    "toc": {
      "base_numbering": 1,
      "nav_menu": {},
      "number_sections": false,
      "sideBar": true,
      "skip_h1_title": true,
      "title_cell": "Table of Contents",
      "title_sidebar": "Contents",
      "toc_cell": false,
      "toc_position": {},
      "toc_section_display": true,
      "toc_window_display": false
    },
    "colab": {
      "name": "classifier_app.ipynb",
      "provenance": []
    }
  },
  "cells": [
    {
      "cell_type": "code",
      "metadata": {
        "id": "D-1QBAqi9pn9"
      },
      "source": [
        "from fastai.basics import *\n",
        "from fastai.callback.all import *\n",
        "from fastai.vision.all import *\n",
        "import ipywidgets as widgets\n",
        "\n",
        "import warnings\n",
        "warnings.filterwarnings('ignore')"
      ],
      "execution_count": 10,
      "outputs": []
    },
    {
      "cell_type": "markdown",
      "metadata": {
        "id": "f-EyMgP39poB"
      },
      "source": [
        "# The Selfie Classifier!"
      ]
    },
    {
      "cell_type": "markdown",
      "metadata": {
        "id": "4V6vudvS9poC"
      },
      "source": [
        "You need to know whether you're being chased by a dangerous grizzly, or a sweet teddy bear, and you need an answer *fast*? Then you've come to the right place. Take a pic of the potentially vicious killer, and click 'upload' to classify it. (Important: this only handles grizzly bears, black bears, and teddy bears. It will **not** give a sensible answer for polar bears, a bear market, a bear of a man, or hot dogs.\n",
        "\n",
        "----"
      ]
    },
    {
      "cell_type": "code",
      "metadata": {
        "id": "5NqMeDvmHRuw"
      },
      "source": [
        "# We need those two methods used to create dataloaders as it the load_learner will search for it when deserializing the model\n",
        "def get_sample_filepath(sample): return Path(sample.filepath)\n",
        "\n",
        "def get_sample_label(sample): return sample.ground_truth.label"
      ],
      "execution_count": null,
      "outputs": []
    },
    {
      "cell_type": "code",
      "metadata": {
        "id": "YTKtErRT9poD"
      },
      "source": [
        "class SelfieDetectorApp():\n",
        "    def __init__(self, learner):\n",
        "        self.learner = load_learner(Path()/'export.pkl', cpu=True)\n",
        "        self.upload = widgets.FileUpload()\n",
        "        self.img_out = widgets.Output()\n",
        "        self.result = widgets.Label()\n",
        "        self.upload.observe(self._on_data_change, names=['data'])\n",
        "\n",
        "    def _on_data_change(self, change):\n",
        "        self.result.value = ''\n",
        "        img = PILImage.create(self.upload.data[-1])\n",
        "        self.img_out.clear_output()\n",
        "        with self.img_out: display(img.to_thumb(300,300)) \n",
        "        class_name, prob_idx, probs = self.learner.predict(img)\n",
        "        self.result.value = f\"{class_name.upper()} with {probs[prob_idx.item()]*100:.2f}% probability\"\n",
        "\n",
        "    def start(self):\n",
        "        return widgets.VBox([widgets.Label('Upload the headshot'), self.upload, self.img_out, self.result])\n",
        "\n",
        "app = SelfieDetectorApp(learn_inf)\n",
        "display(app.start())"
      ],
      "execution_count": null,
      "outputs": []
    }
  ]
}